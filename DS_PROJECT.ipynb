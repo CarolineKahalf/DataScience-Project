{
 "cells": [
  {
   "cell_type": "markdown",
   "metadata": {},
   
  },
  {
   "cell_type": "markdown",
   "metadata": {},
   "source": [
    "#### This dataset includes all needed information to find out more about hosts, geographical availability, necessary metrics to make predictions and draw conclusions."
   ]
  },
  {
   "cell_type": "code",
   "execution_count": 260,
   "metadata": {},
   "outputs": [],
   "source": [
    "import pandas as pd\n",
    "import matplotlib.pyplot as plt\n",
    "import numpy as np"
   ]
  },
  {
   "cell_type": "code",
   "execution_count": 261,
   "metadata": {},
   "outputs": [],
   "source": [
    "data=pd.read_csv(\"AB_NYC_2019.csv\")"
   ]
  },
  {
   "cell_type": "code",
   "execution_count": 262,
   "metadata": {
    "scrolled": true
   },
   "outputs": [
    {
     "data": {
      "text/html": [
       "<div>\n",
       "<style scoped>\n",
       "    .dataframe tbody tr th:only-of-type {\n",
       "        vertical-align: middle;\n",
       "    }\n",
       "\n",
       "    .dataframe tbody tr th {\n",
       "        vertical-align: top;\n",
       "    }\n",
       "\n",
       "    .dataframe thead th {\n",
       "        text-align: right;\n",
       "    }\n",
       "</style>\n",
       "<table border=\"1\" class=\"dataframe\">\n",
       "  <thead>\n",
       "    <tr style=\"text-align: right;\">\n",
       "      <th></th>\n",
       "      <th>id</th>\n",
       "      <th>name</th>\n",
       "      <th>host_id</th>\n",
       "      <th>host_name</th>\n",
       "      <th>neighbourhood_group</th>\n",
       "      <th>neighbourhood</th>\n",
       "      <th>latitude</th>\n",
       "      <th>longitude</th>\n",
       "      <th>room_type</th>\n",
       "      <th>price</th>\n",
       "      <th>minimum_nights</th>\n",
       "      <th>number_of_reviews</th>\n",
       "      <th>last_review</th>\n",
       "      <th>reviews_per_month</th>\n",
       "      <th>calculated_host_listings_count</th>\n",
       "      <th>availability_365</th>\n",
       "    </tr>\n",
       "  </thead>\n",
       "  <tbody>\n",
       "    <tr>\n",
       "      <td>0</td>\n",
       "      <td>2539</td>\n",
       "      <td>Clean &amp; quiet apt home by the park</td>\n",
       "      <td>2787</td>\n",
       "      <td>John</td>\n",
       "      <td>Brooklyn</td>\n",
       "      <td>Kensington</td>\n",
       "      <td>40.64749</td>\n",
       "      <td>-73.97237</td>\n",
       "      <td>Private room</td>\n",
       "      <td>149</td>\n",
       "      <td>1</td>\n",
       "      <td>9</td>\n",
       "      <td>2018-10-19</td>\n",
       "      <td>0.21</td>\n",
       "      <td>6</td>\n",
       "      <td>365</td>\n",
       "    </tr>\n",
       "    <tr>\n",
       "      <td>1</td>\n",
       "      <td>2595</td>\n",
       "      <td>Skylit Midtown Castle</td>\n",
       "      <td>2845</td>\n",
       "      <td>Jennifer</td>\n",
       "      <td>Manhattan</td>\n",
       "      <td>Midtown</td>\n",
       "      <td>40.75362</td>\n",
       "      <td>-73.98377</td>\n",
       "      <td>Entire home/apt</td>\n",
       "      <td>225</td>\n",
       "      <td>1</td>\n",
       "      <td>45</td>\n",
       "      <td>2019-05-21</td>\n",
       "      <td>0.38</td>\n",
       "      <td>2</td>\n",
       "      <td>355</td>\n",
       "    </tr>\n",
       "    <tr>\n",
       "      <td>2</td>\n",
       "      <td>3647</td>\n",
       "      <td>THE VILLAGE OF HARLEM....NEW YORK !</td>\n",
       "      <td>4632</td>\n",
       "      <td>Elisabeth</td>\n",
       "      <td>Manhattan</td>\n",
       "      <td>Harlem</td>\n",
       "      <td>40.80902</td>\n",
       "      <td>-73.94190</td>\n",
       "      <td>Private room</td>\n",
       "      <td>150</td>\n",
       "      <td>3</td>\n",
       "      <td>0</td>\n",
       "      <td>NaN</td>\n",
       "      <td>NaN</td>\n",
       "      <td>1</td>\n",
       "      <td>365</td>\n",
       "    </tr>\n",
       "    <tr>\n",
       "      <td>3</td>\n",
       "      <td>3831</td>\n",
       "      <td>Cozy Entire Floor of Brownstone</td>\n",
       "      <td>4869</td>\n",
       "      <td>LisaRoxanne</td>\n",
       "      <td>Brooklyn</td>\n",
       "      <td>Clinton Hill</td>\n",
       "      <td>40.68514</td>\n",
       "      <td>-73.95976</td>\n",
       "      <td>Entire home/apt</td>\n",
       "      <td>89</td>\n",
       "      <td>1</td>\n",
       "      <td>270</td>\n",
       "      <td>2019-07-05</td>\n",
       "      <td>4.64</td>\n",
       "      <td>1</td>\n",
       "      <td>194</td>\n",
       "    </tr>\n",
       "    <tr>\n",
       "      <td>4</td>\n",
       "      <td>5022</td>\n",
       "      <td>Entire Apt: Spacious Studio/Loft by central park</td>\n",
       "      <td>7192</td>\n",
       "      <td>Laura</td>\n",
       "      <td>Manhattan</td>\n",
       "      <td>East Harlem</td>\n",
       "      <td>40.79851</td>\n",
       "      <td>-73.94399</td>\n",
       "      <td>Entire home/apt</td>\n",
       "      <td>80</td>\n",
       "      <td>10</td>\n",
       "      <td>9</td>\n",
       "      <td>2018-11-19</td>\n",
       "      <td>0.10</td>\n",
       "      <td>1</td>\n",
       "      <td>0</td>\n",
       "    </tr>\n",
       "    <tr>\n",
       "      <td>...</td>\n",
       "      <td>...</td>\n",
       "      <td>...</td>\n",
       "      <td>...</td>\n",
       "      <td>...</td>\n",
       "      <td>...</td>\n",
       "      <td>...</td>\n",
       "      <td>...</td>\n",
       "      <td>...</td>\n",
       "      <td>...</td>\n",
       "      <td>...</td>\n",
       "      <td>...</td>\n",
       "      <td>...</td>\n",
       "      <td>...</td>\n",
       "      <td>...</td>\n",
       "      <td>...</td>\n",
       "      <td>...</td>\n",
       "    </tr>\n",
       "    <tr>\n",
       "      <td>48890</td>\n",
       "      <td>36484665</td>\n",
       "      <td>Charming one bedroom - newly renovated rowhouse</td>\n",
       "      <td>8232441</td>\n",
       "      <td>Sabrina</td>\n",
       "      <td>Brooklyn</td>\n",
       "      <td>Bedford-Stuyvesant</td>\n",
       "      <td>40.67853</td>\n",
       "      <td>-73.94995</td>\n",
       "      <td>Private room</td>\n",
       "      <td>70</td>\n",
       "      <td>2</td>\n",
       "      <td>0</td>\n",
       "      <td>NaN</td>\n",
       "      <td>NaN</td>\n",
       "      <td>2</td>\n",
       "      <td>9</td>\n",
       "    </tr>\n",
       "    <tr>\n",
       "      <td>48891</td>\n",
       "      <td>36485057</td>\n",
       "      <td>Affordable room in Bushwick/East Williamsburg</td>\n",
       "      <td>6570630</td>\n",
       "      <td>Marisol</td>\n",
       "      <td>Brooklyn</td>\n",
       "      <td>Bushwick</td>\n",
       "      <td>40.70184</td>\n",
       "      <td>-73.93317</td>\n",
       "      <td>Private room</td>\n",
       "      <td>40</td>\n",
       "      <td>4</td>\n",
       "      <td>0</td>\n",
       "      <td>NaN</td>\n",
       "      <td>NaN</td>\n",
       "      <td>2</td>\n",
       "      <td>36</td>\n",
       "    </tr>\n",
       "    <tr>\n",
       "      <td>48892</td>\n",
       "      <td>36485431</td>\n",
       "      <td>Sunny Studio at Historical Neighborhood</td>\n",
       "      <td>23492952</td>\n",
       "      <td>Ilgar &amp; Aysel</td>\n",
       "      <td>Manhattan</td>\n",
       "      <td>Harlem</td>\n",
       "      <td>40.81475</td>\n",
       "      <td>-73.94867</td>\n",
       "      <td>Entire home/apt</td>\n",
       "      <td>115</td>\n",
       "      <td>10</td>\n",
       "      <td>0</td>\n",
       "      <td>NaN</td>\n",
       "      <td>NaN</td>\n",
       "      <td>1</td>\n",
       "      <td>27</td>\n",
       "    </tr>\n",
       "    <tr>\n",
       "      <td>48893</td>\n",
       "      <td>36485609</td>\n",
       "      <td>43rd St. Time Square-cozy single bed</td>\n",
       "      <td>30985759</td>\n",
       "      <td>Taz</td>\n",
       "      <td>Manhattan</td>\n",
       "      <td>Hell's Kitchen</td>\n",
       "      <td>40.75751</td>\n",
       "      <td>-73.99112</td>\n",
       "      <td>Shared room</td>\n",
       "      <td>55</td>\n",
       "      <td>1</td>\n",
       "      <td>0</td>\n",
       "      <td>NaN</td>\n",
       "      <td>NaN</td>\n",
       "      <td>6</td>\n",
       "      <td>2</td>\n",
       "    </tr>\n",
       "    <tr>\n",
       "      <td>48894</td>\n",
       "      <td>36487245</td>\n",
       "      <td>Trendy duplex in the very heart of Hell's Kitchen</td>\n",
       "      <td>68119814</td>\n",
       "      <td>Christophe</td>\n",
       "      <td>Manhattan</td>\n",
       "      <td>Hell's Kitchen</td>\n",
       "      <td>40.76404</td>\n",
       "      <td>-73.98933</td>\n",
       "      <td>Private room</td>\n",
       "      <td>90</td>\n",
       "      <td>7</td>\n",
       "      <td>0</td>\n",
       "      <td>NaN</td>\n",
       "      <td>NaN</td>\n",
       "      <td>1</td>\n",
       "      <td>23</td>\n",
       "    </tr>\n",
       "  </tbody>\n",
       "</table>\n",
       "<p>48895 rows × 16 columns</p>\n",
       "</div>"
      ],
      "text/plain": [
       "             id                                               name   host_id  \\\n",
       "0          2539                 Clean & quiet apt home by the park      2787   \n",
       "1          2595                              Skylit Midtown Castle      2845   \n",
       "2          3647                THE VILLAGE OF HARLEM....NEW YORK !      4632   \n",
       "3          3831                    Cozy Entire Floor of Brownstone      4869   \n",
       "4          5022   Entire Apt: Spacious Studio/Loft by central park      7192   \n",
       "...         ...                                                ...       ...   \n",
       "48890  36484665    Charming one bedroom - newly renovated rowhouse   8232441   \n",
       "48891  36485057      Affordable room in Bushwick/East Williamsburg   6570630   \n",
       "48892  36485431            Sunny Studio at Historical Neighborhood  23492952   \n",
       "48893  36485609               43rd St. Time Square-cozy single bed  30985759   \n",
       "48894  36487245  Trendy duplex in the very heart of Hell's Kitchen  68119814   \n",
       "\n",
       "           host_name neighbourhood_group       neighbourhood  latitude  \\\n",
       "0               John            Brooklyn          Kensington  40.64749   \n",
       "1           Jennifer           Manhattan             Midtown  40.75362   \n",
       "2          Elisabeth           Manhattan              Harlem  40.80902   \n",
       "3        LisaRoxanne            Brooklyn        Clinton Hill  40.68514   \n",
       "4              Laura           Manhattan         East Harlem  40.79851   \n",
       "...              ...                 ...                 ...       ...   \n",
       "48890        Sabrina            Brooklyn  Bedford-Stuyvesant  40.67853   \n",
       "48891        Marisol            Brooklyn            Bushwick  40.70184   \n",
       "48892  Ilgar & Aysel           Manhattan              Harlem  40.81475   \n",
       "48893            Taz           Manhattan      Hell's Kitchen  40.75751   \n",
       "48894     Christophe           Manhattan      Hell's Kitchen  40.76404   \n",
       "\n",
       "       longitude        room_type  price  minimum_nights  number_of_reviews  \\\n",
       "0      -73.97237     Private room    149               1                  9   \n",
       "1      -73.98377  Entire home/apt    225               1                 45   \n",
       "2      -73.94190     Private room    150               3                  0   \n",
       "3      -73.95976  Entire home/apt     89               1                270   \n",
       "4      -73.94399  Entire home/apt     80              10                  9   \n",
       "...          ...              ...    ...             ...                ...   \n",
       "48890  -73.94995     Private room     70               2                  0   \n",
       "48891  -73.93317     Private room     40               4                  0   \n",
       "48892  -73.94867  Entire home/apt    115              10                  0   \n",
       "48893  -73.99112      Shared room     55               1                  0   \n",
       "48894  -73.98933     Private room     90               7                  0   \n",
       "\n",
       "      last_review  reviews_per_month  calculated_host_listings_count  \\\n",
       "0      2018-10-19               0.21                               6   \n",
       "1      2019-05-21               0.38                               2   \n",
       "2             NaN                NaN                               1   \n",
       "3      2019-07-05               4.64                               1   \n",
       "4      2018-11-19               0.10                               1   \n",
       "...           ...                ...                             ...   \n",
       "48890         NaN                NaN                               2   \n",
       "48891         NaN                NaN                               2   \n",
       "48892         NaN                NaN                               1   \n",
       "48893         NaN                NaN                               6   \n",
       "48894         NaN                NaN                               1   \n",
       "\n",
       "       availability_365  \n",
       "0                   365  \n",
       "1                   355  \n",
       "2                   365  \n",
       "3                   194  \n",
       "4                     0  \n",
       "...                 ...  \n",
       "48890                 9  \n",
       "48891                36  \n",
       "48892                27  \n",
       "48893                 2  \n",
       "48894                23  \n",
       "\n",
       "[48895 rows x 16 columns]"
      ]
     },
     "execution_count": 262,
     "metadata": {},
     "output_type": "execute_result"
    }
   ],
   "source": [
    "data"
   ]
  },
  {
   "cell_type": "markdown",
   "metadata": {},
   "source": [
    "#### The variables of the data set represent:\n",
    "1. id:listing ID\n",
    "2. name:name of the listing\n",
    "3. host_id:host ID\n",
    "4. host_name:name of the host\n",
    "5. neighbourhood_group:location\n",
    "6. neighbourhood:area\n",
    "7. latitude:latitude coordinates\n",
    "8. longitude:longitude coordinates\n",
    "9. room_type:listing space type\n",
    "10. price:price in dollars\n",
    "11. minimum_nights:minimum amount of nights one can spend\n",
    "12. number_of_reviews:number of reviews\n",
    "13. last_review:latest review\n",
    "14. reviews_per_month:number of reviews per month\n",
    "15. calculated_host_listings_count:amount of listing per host\n",
    "16. availability_365:number of days when listing is available for booking\n",
    "\n"
   ]
  },
  {
   "cell_type": "markdown",
   "metadata": {},
   "source": [
    "## DATA MANIPULATION"
   ]
  },
  {
   "cell_type": "code",
   "execution_count": 263,
   "metadata": {
    "scrolled": true
   },
   "outputs": [
    {
     "data": {
      "text/html": [
       "<div>\n",
       "<style scoped>\n",
       "    .dataframe tbody tr th:only-of-type {\n",
       "        vertical-align: middle;\n",
       "    }\n",
       "\n",
       "    .dataframe tbody tr th {\n",
       "        vertical-align: top;\n",
       "    }\n",
       "\n",
       "    .dataframe thead th {\n",
       "        text-align: right;\n",
       "    }\n",
       "</style>\n",
       "<table border=\"1\" class=\"dataframe\">\n",
       "  <thead>\n",
       "    <tr style=\"text-align: right;\">\n",
       "      <th></th>\n",
       "      <th>id</th>\n",
       "      <th>name</th>\n",
       "      <th>host_id</th>\n",
       "      <th>host_name</th>\n",
       "      <th>neighbourhood_group</th>\n",
       "      <th>neighbourhood</th>\n",
       "      <th>latitude</th>\n",
       "      <th>longitude</th>\n",
       "      <th>room_type</th>\n",
       "      <th>price</th>\n",
       "      <th>minimum_nights</th>\n",
       "      <th>number_of_reviews</th>\n",
       "      <th>last_review</th>\n",
       "      <th>reviews_per_month</th>\n",
       "      <th>calculated_host_listings_count</th>\n",
       "      <th>availability_365</th>\n",
       "    </tr>\n",
       "  </thead>\n",
       "  <tbody>\n",
       "    <tr>\n",
       "      <td>0</td>\n",
       "      <td>2539</td>\n",
       "      <td>Clean &amp; quiet apt home by the park</td>\n",
       "      <td>2787</td>\n",
       "      <td>John</td>\n",
       "      <td>Brooklyn</td>\n",
       "      <td>Kensington</td>\n",
       "      <td>40.64749</td>\n",
       "      <td>-73.97237</td>\n",
       "      <td>Private room</td>\n",
       "      <td>149</td>\n",
       "      <td>1</td>\n",
       "      <td>9</td>\n",
       "      <td>2018-10-19</td>\n",
       "      <td>0.21</td>\n",
       "      <td>6</td>\n",
       "      <td>365</td>\n",
       "    </tr>\n",
       "    <tr>\n",
       "      <td>1</td>\n",
       "      <td>2595</td>\n",
       "      <td>Skylit Midtown Castle</td>\n",
       "      <td>2845</td>\n",
       "      <td>Jennifer</td>\n",
       "      <td>Manhattan</td>\n",
       "      <td>Midtown</td>\n",
       "      <td>40.75362</td>\n",
       "      <td>-73.98377</td>\n",
       "      <td>Entire home/apt</td>\n",
       "      <td>225</td>\n",
       "      <td>1</td>\n",
       "      <td>45</td>\n",
       "      <td>2019-05-21</td>\n",
       "      <td>0.38</td>\n",
       "      <td>2</td>\n",
       "      <td>355</td>\n",
       "    </tr>\n",
       "    <tr>\n",
       "      <td>2</td>\n",
       "      <td>3647</td>\n",
       "      <td>THE VILLAGE OF HARLEM....NEW YORK !</td>\n",
       "      <td>4632</td>\n",
       "      <td>Elisabeth</td>\n",
       "      <td>Manhattan</td>\n",
       "      <td>Harlem</td>\n",
       "      <td>40.80902</td>\n",
       "      <td>-73.94190</td>\n",
       "      <td>Private room</td>\n",
       "      <td>150</td>\n",
       "      <td>3</td>\n",
       "      <td>0</td>\n",
       "      <td>NaN</td>\n",
       "      <td>NaN</td>\n",
       "      <td>1</td>\n",
       "      <td>365</td>\n",
       "    </tr>\n",
       "    <tr>\n",
       "      <td>3</td>\n",
       "      <td>3831</td>\n",
       "      <td>Cozy Entire Floor of Brownstone</td>\n",
       "      <td>4869</td>\n",
       "      <td>LisaRoxanne</td>\n",
       "      <td>Brooklyn</td>\n",
       "      <td>Clinton Hill</td>\n",
       "      <td>40.68514</td>\n",
       "      <td>-73.95976</td>\n",
       "      <td>Entire home/apt</td>\n",
       "      <td>89</td>\n",
       "      <td>1</td>\n",
       "      <td>270</td>\n",
       "      <td>2019-07-05</td>\n",
       "      <td>4.64</td>\n",
       "      <td>1</td>\n",
       "      <td>194</td>\n",
       "    </tr>\n",
       "    <tr>\n",
       "      <td>4</td>\n",
       "      <td>5022</td>\n",
       "      <td>Entire Apt: Spacious Studio/Loft by central park</td>\n",
       "      <td>7192</td>\n",
       "      <td>Laura</td>\n",
       "      <td>Manhattan</td>\n",
       "      <td>East Harlem</td>\n",
       "      <td>40.79851</td>\n",
       "      <td>-73.94399</td>\n",
       "      <td>Entire home/apt</td>\n",
       "      <td>80</td>\n",
       "      <td>10</td>\n",
       "      <td>9</td>\n",
       "      <td>2018-11-19</td>\n",
       "      <td>0.10</td>\n",
       "      <td>1</td>\n",
       "      <td>0</td>\n",
       "    </tr>\n",
       "  </tbody>\n",
       "</table>\n",
       "</div>"
      ],
      "text/plain": [
       "     id                                              name  host_id  \\\n",
       "0  2539                Clean & quiet apt home by the park     2787   \n",
       "1  2595                             Skylit Midtown Castle     2845   \n",
       "2  3647               THE VILLAGE OF HARLEM....NEW YORK !     4632   \n",
       "3  3831                   Cozy Entire Floor of Brownstone     4869   \n",
       "4  5022  Entire Apt: Spacious Studio/Loft by central park     7192   \n",
       "\n",
       "     host_name neighbourhood_group neighbourhood  latitude  longitude  \\\n",
       "0         John            Brooklyn    Kensington  40.64749  -73.97237   \n",
       "1     Jennifer           Manhattan       Midtown  40.75362  -73.98377   \n",
       "2    Elisabeth           Manhattan        Harlem  40.80902  -73.94190   \n",
       "3  LisaRoxanne            Brooklyn  Clinton Hill  40.68514  -73.95976   \n",
       "4        Laura           Manhattan   East Harlem  40.79851  -73.94399   \n",
       "\n",
       "         room_type  price  minimum_nights  number_of_reviews last_review  \\\n",
       "0     Private room    149               1                  9  2018-10-19   \n",
       "1  Entire home/apt    225               1                 45  2019-05-21   \n",
       "2     Private room    150               3                  0         NaN   \n",
       "3  Entire home/apt     89               1                270  2019-07-05   \n",
       "4  Entire home/apt     80              10                  9  2018-11-19   \n",
       "\n",
       "   reviews_per_month  calculated_host_listings_count  availability_365  \n",
       "0               0.21                               6               365  \n",
       "1               0.38                               2               355  \n",
       "2                NaN                               1               365  \n",
       "3               4.64                               1               194  \n",
       "4               0.10                               1                 0  "
      ]
     },
     "execution_count": 263,
     "metadata": {},
     "output_type": "execute_result"
    }
   ],
   "source": [
    "#to print the first few rows\n",
    "data.head()"
   ]
  },
  {
   "cell_type": "code",
   "execution_count": 264,
   "metadata": {},
   "outputs": [
    {
     "data": {
      "text/plain": [
       "(48895, 16)"
      ]
     },
     "execution_count": 264,
     "metadata": {},
     "output_type": "execute_result"
    }
   ],
   "source": [
    "#displays number of rows and columns\n",
    "data.shape"
   ]
  },
  {
   "cell_type": "code",
   "execution_count": 265,
   "metadata": {
    "scrolled": true
   },
   "outputs": [
    {
     "data": {
      "text/html": [
       "<div>\n",
       "<style scoped>\n",
       "    .dataframe tbody tr th:only-of-type {\n",
       "        vertical-align: middle;\n",
       "    }\n",
       "\n",
       "    .dataframe tbody tr th {\n",
       "        vertical-align: top;\n",
       "    }\n",
       "\n",
       "    .dataframe thead th {\n",
       "        text-align: right;\n",
       "    }\n",
       "</style>\n",
       "<table border=\"1\" class=\"dataframe\">\n",
       "  <thead>\n",
       "    <tr style=\"text-align: right;\">\n",
       "      <th></th>\n",
       "      <th>id</th>\n",
       "      <th>host_id</th>\n",
       "      <th>latitude</th>\n",
       "      <th>longitude</th>\n",
       "      <th>price</th>\n",
       "      <th>minimum_nights</th>\n",
       "      <th>number_of_reviews</th>\n",
       "      <th>reviews_per_month</th>\n",
       "      <th>calculated_host_listings_count</th>\n",
       "      <th>availability_365</th>\n",
       "    </tr>\n",
       "  </thead>\n",
       "  <tbody>\n",
       "    <tr>\n",
       "      <td>count</td>\n",
       "      <td>4.889500e+04</td>\n",
       "      <td>4.889500e+04</td>\n",
       "      <td>48895.000000</td>\n",
       "      <td>48895.000000</td>\n",
       "      <td>48895.000000</td>\n",
       "      <td>48895.000000</td>\n",
       "      <td>48895.000000</td>\n",
       "      <td>38843.000000</td>\n",
       "      <td>48895.000000</td>\n",
       "      <td>48895.000000</td>\n",
       "    </tr>\n",
       "    <tr>\n",
       "      <td>mean</td>\n",
       "      <td>1.901714e+07</td>\n",
       "      <td>6.762001e+07</td>\n",
       "      <td>40.728949</td>\n",
       "      <td>-73.952170</td>\n",
       "      <td>152.720687</td>\n",
       "      <td>7.029962</td>\n",
       "      <td>23.274466</td>\n",
       "      <td>1.373221</td>\n",
       "      <td>7.143982</td>\n",
       "      <td>112.781327</td>\n",
       "    </tr>\n",
       "    <tr>\n",
       "      <td>std</td>\n",
       "      <td>1.098311e+07</td>\n",
       "      <td>7.861097e+07</td>\n",
       "      <td>0.054530</td>\n",
       "      <td>0.046157</td>\n",
       "      <td>240.154170</td>\n",
       "      <td>20.510550</td>\n",
       "      <td>44.550582</td>\n",
       "      <td>1.680442</td>\n",
       "      <td>32.952519</td>\n",
       "      <td>131.622289</td>\n",
       "    </tr>\n",
       "    <tr>\n",
       "      <td>min</td>\n",
       "      <td>2.539000e+03</td>\n",
       "      <td>2.438000e+03</td>\n",
       "      <td>40.499790</td>\n",
       "      <td>-74.244420</td>\n",
       "      <td>0.000000</td>\n",
       "      <td>1.000000</td>\n",
       "      <td>0.000000</td>\n",
       "      <td>0.010000</td>\n",
       "      <td>1.000000</td>\n",
       "      <td>0.000000</td>\n",
       "    </tr>\n",
       "    <tr>\n",
       "      <td>25%</td>\n",
       "      <td>9.471945e+06</td>\n",
       "      <td>7.822033e+06</td>\n",
       "      <td>40.690100</td>\n",
       "      <td>-73.983070</td>\n",
       "      <td>69.000000</td>\n",
       "      <td>1.000000</td>\n",
       "      <td>1.000000</td>\n",
       "      <td>0.190000</td>\n",
       "      <td>1.000000</td>\n",
       "      <td>0.000000</td>\n",
       "    </tr>\n",
       "    <tr>\n",
       "      <td>50%</td>\n",
       "      <td>1.967728e+07</td>\n",
       "      <td>3.079382e+07</td>\n",
       "      <td>40.723070</td>\n",
       "      <td>-73.955680</td>\n",
       "      <td>106.000000</td>\n",
       "      <td>3.000000</td>\n",
       "      <td>5.000000</td>\n",
       "      <td>0.720000</td>\n",
       "      <td>1.000000</td>\n",
       "      <td>45.000000</td>\n",
       "    </tr>\n",
       "    <tr>\n",
       "      <td>75%</td>\n",
       "      <td>2.915218e+07</td>\n",
       "      <td>1.074344e+08</td>\n",
       "      <td>40.763115</td>\n",
       "      <td>-73.936275</td>\n",
       "      <td>175.000000</td>\n",
       "      <td>5.000000</td>\n",
       "      <td>24.000000</td>\n",
       "      <td>2.020000</td>\n",
       "      <td>2.000000</td>\n",
       "      <td>227.000000</td>\n",
       "    </tr>\n",
       "    <tr>\n",
       "      <td>max</td>\n",
       "      <td>3.648724e+07</td>\n",
       "      <td>2.743213e+08</td>\n",
       "      <td>40.913060</td>\n",
       "      <td>-73.712990</td>\n",
       "      <td>10000.000000</td>\n",
       "      <td>1250.000000</td>\n",
       "      <td>629.000000</td>\n",
       "      <td>58.500000</td>\n",
       "      <td>327.000000</td>\n",
       "      <td>365.000000</td>\n",
       "    </tr>\n",
       "  </tbody>\n",
       "</table>\n",
       "</div>"
      ],
      "text/plain": [
       "                 id       host_id      latitude     longitude         price  \\\n",
       "count  4.889500e+04  4.889500e+04  48895.000000  48895.000000  48895.000000   \n",
       "mean   1.901714e+07  6.762001e+07     40.728949    -73.952170    152.720687   \n",
       "std    1.098311e+07  7.861097e+07      0.054530      0.046157    240.154170   \n",
       "min    2.539000e+03  2.438000e+03     40.499790    -74.244420      0.000000   \n",
       "25%    9.471945e+06  7.822033e+06     40.690100    -73.983070     69.000000   \n",
       "50%    1.967728e+07  3.079382e+07     40.723070    -73.955680    106.000000   \n",
       "75%    2.915218e+07  1.074344e+08     40.763115    -73.936275    175.000000   \n",
       "max    3.648724e+07  2.743213e+08     40.913060    -73.712990  10000.000000   \n",
       "\n",
       "       minimum_nights  number_of_reviews  reviews_per_month  \\\n",
       "count    48895.000000       48895.000000       38843.000000   \n",
       "mean         7.029962          23.274466           1.373221   \n",
       "std         20.510550          44.550582           1.680442   \n",
       "min          1.000000           0.000000           0.010000   \n",
       "25%          1.000000           1.000000           0.190000   \n",
       "50%          3.000000           5.000000           0.720000   \n",
       "75%          5.000000          24.000000           2.020000   \n",
       "max       1250.000000         629.000000          58.500000   \n",
       "\n",
       "       calculated_host_listings_count  availability_365  \n",
       "count                    48895.000000      48895.000000  \n",
       "mean                         7.143982        112.781327  \n",
       "std                         32.952519        131.622289  \n",
       "min                          1.000000          0.000000  \n",
       "25%                          1.000000          0.000000  \n",
       "50%                          1.000000         45.000000  \n",
       "75%                          2.000000        227.000000  \n",
       "max                        327.000000        365.000000  "
      ]
     },
     "execution_count": 265,
     "metadata": {},
     "output_type": "execute_result"
    }
   ],
   "source": [
    "#statistics\n",
    "data.describe()"
   ]
  },
  {
   "cell_type": "code",
   "execution_count": 266,
   "metadata": {},
   "outputs": [
    {
     "data": {
      "text/plain": [
       "id                                    0\n",
       "name                                 16\n",
       "host_id                               0\n",
       "host_name                            21\n",
       "neighbourhood_group                   0\n",
       "neighbourhood                         0\n",
       "latitude                              0\n",
       "longitude                             0\n",
       "room_type                             0\n",
       "price                                 0\n",
       "minimum_nights                        0\n",
       "number_of_reviews                     0\n",
       "last_review                       10052\n",
       "reviews_per_month                 10052\n",
       "calculated_host_listings_count        0\n",
       "availability_365                      0\n",
       "dtype: int64"
      ]
     },
     "execution_count": 266,
     "metadata": {},
     "output_type": "execute_result"
    }
   ],
   "source": [
    "#checks for any missing or null values in the dataset\n",
    "data.isnull().sum()"
   ]
  },
  {
   "cell_type": "markdown",
   "metadata": {},
   "source": [
    "### REGRESSION"
   ]
  },
  {
   "cell_type": "markdown",
   "metadata": {},
   "source": [
    "The price of a place is dependent on the neighbourhood group,the number of reviews,the availability and the room type.Linear regression helps us determine the price based on the given variables"
   ]
  },
  {
   "cell_type": "code",
   "execution_count": 267,
   "metadata": {},
   "outputs": [
    {
     "data": {
      "text/plain": [
       "neighbourhood_group\n",
       "Bronx             1091\n",
       "Brooklyn         20104\n",
       "Manhattan        21661\n",
       "Queens            5666\n",
       "Staten Island      373\n",
       "dtype: int64"
      ]
     },
     "execution_count": 267,
     "metadata": {},
     "output_type": "execute_result"
    }
   ],
   "source": [
    "#helps identify the values in a column.\n",
    "data.groupby('neighbourhood_group').size()"
   ]
  },
  {
   "cell_type": "code",
   "execution_count": 268,
   "metadata": {},
   "outputs": [],
   "source": [
    "#way to change the neighbourhood_group datatype\n",
    "data['neighbourhood_group'].replace({'Bronx':0, 'Brooklyn':1,\n",
    "                       'Manhattan':2,  'Queens':3,\n",
    "                       'Staten Island':4}, inplace= True)\n"
   ]
  },
  {
   "cell_type": "code",
   "execution_count": 269,
   "metadata": {},
   "outputs": [
    {
     "data": {
      "text/plain": [
       "0        1\n",
       "1        2\n",
       "2        2\n",
       "3        1\n",
       "4        2\n",
       "        ..\n",
       "48890    1\n",
       "48891    1\n",
       "48892    2\n",
       "48893    2\n",
       "48894    2\n",
       "Name: neighbourhood_group, Length: 48895, dtype: int64"
      ]
     },
     "execution_count": 269,
     "metadata": {},
     "output_type": "execute_result"
    }
   ],
   "source": [
    "data.neighbourhood_group"
   ]
  },
  {
   "cell_type": "code",
   "execution_count": 270,
   "metadata": {},
   "outputs": [
    {
     "data": {
      "text/plain": [
       "availability_365\n",
       "0      17533\n",
       "1        408\n",
       "2        270\n",
       "3        306\n",
       "4        233\n",
       "       ...  \n",
       "361      111\n",
       "362      166\n",
       "363      239\n",
       "364      491\n",
       "365     1295\n",
       "Length: 366, dtype: int64"
      ]
     },
     "execution_count": 270,
     "metadata": {},
     "output_type": "execute_result"
    }
   ],
   "source": [
    "data.groupby('availability_365').size()"
   ]
  },
  {
   "cell_type": "code",
   "execution_count": 271,
   "metadata": {},
   "outputs": [
    {
     "data": {
      "text/plain": [
       "room_type\n",
       "Entire home/apt    25409\n",
       "Private room       22326\n",
       "Shared room         1160\n",
       "dtype: int64"
      ]
     },
     "execution_count": 271,
     "metadata": {},
     "output_type": "execute_result"
    }
   ],
   "source": [
    "data.groupby('room_type').size()"
   ]
  },
  {
   "cell_type": "code",
   "execution_count": 272,
   "metadata": {},
   "outputs": [],
   "source": [
    "#way to change the room_type datatype\n",
    "data['room_type'].replace({'Entire home/apt':0, 'Private room':1,\n",
    "                       'Shared room':2},inplace= True)"
   ]
  },
  {
   "cell_type": "code",
   "execution_count": 273,
   "metadata": {},
   "outputs": [
    {
     "data": {
      "text/plain": [
       "0        1\n",
       "1        0\n",
       "2        1\n",
       "3        0\n",
       "4        0\n",
       "        ..\n",
       "48890    1\n",
       "48891    1\n",
       "48892    0\n",
       "48893    2\n",
       "48894    1\n",
       "Name: room_type, Length: 48895, dtype: int64"
      ]
     },
     "execution_count": 273,
     "metadata": {},
     "output_type": "execute_result"
    }
   ],
   "source": [
    "data.room_type"
   ]
  },
  {
   "cell_type": "code",
   "execution_count": 274,
   "metadata": {},
   "outputs": [],
   "source": [
    "#import the libraries necessary to perform multiple linear regression\n",
    "from sklearn.linear_model import LinearRegression\n",
    "from sklearn.model_selection import train_test_split\n",
    "from sklearn.metrics import mean_squared_error, r2_score\n",
    "import numpy as np"
   ]
  },
  {
   "cell_type": "code",
   "execution_count": 275,
   "metadata": {},
   "outputs": [],
   "source": [
    "#to select the rows that become the independent variables, that is x\n",
    "x=data[['neighbourhood_group','room_type','number_of_reviews','availability_365']].values"
   ]
  },
  {
   "cell_type": "code",
   "execution_count": 276,
   "metadata": {},
   "outputs": [
    {
     "data": {
      "text/plain": [
       "array([[  1,   1,   9, 365],\n",
       "       [  2,   0,  45, 355],\n",
       "       [  2,   1,   0, 365],\n",
       "       ...,\n",
       "       [  2,   0,   0,  27],\n",
       "       [  2,   2,   0,   2],\n",
       "       [  2,   1,   0,  23]], dtype=int64)"
      ]
     },
     "execution_count": 276,
     "metadata": {},
     "output_type": "execute_result"
    }
   ],
   "source": [
    "x"
   ]
  },
  {
   "cell_type": "code",
   "execution_count": 277,
   "metadata": {},
   "outputs": [
    {
     "data": {
      "text/plain": [
       "(48895, 4)"
      ]
     },
     "execution_count": 277,
     "metadata": {},
     "output_type": "execute_result"
    }
   ],
   "source": [
    "x.shape"
   ]
  },
  {
   "cell_type": "code",
   "execution_count": 278,
   "metadata": {},
   "outputs": [],
   "source": [
    "#to select the dependent variable which is sale, that is y\n",
    "y=data['price'].values"
   ]
  },
  {
   "cell_type": "code",
   "execution_count": 279,
   "metadata": {},
   "outputs": [
    {
     "data": {
      "text/plain": [
       "array([149, 225, 150, ..., 115,  55,  90], dtype=int64)"
      ]
     },
     "execution_count": 279,
     "metadata": {},
     "output_type": "execute_result"
    }
   ],
   "source": [
    "y"
   ]
  },
  {
   "cell_type": "code",
   "execution_count": 280,
   "metadata": {},
   "outputs": [],
   "source": [
    "#training the model\n",
    "X_train,X_test,Y_train,Y_test=train_test_split(x,y,test_size=0.25)"
   ]
  },
  {
   "cell_type": "code",
   "execution_count": 281,
   "metadata": {},
   "outputs": [],
   "source": [
    "model=LinearRegression()"
   ]
  },
  {
   "cell_type": "code",
   "execution_count": 282,
   "metadata": {},
   "outputs": [
    {
     "data": {
      "text/plain": [
       "LinearRegression(copy_X=True, fit_intercept=True, n_jobs=None, normalize=False)"
      ]
     },
     "execution_count": 282,
     "metadata": {},
     "output_type": "execute_result"
    }
   ],
   "source": [
    "model.fit(X_train,Y_train)"
   ]
  },
  {
   "cell_type": "code",
   "execution_count": 283,
   "metadata": {},
   "outputs": [
    {
     "data": {
      "text/plain": [
       "177.1128113263195"
      ]
     },
     "execution_count": 283,
     "metadata": {},
     "output_type": "execute_result"
    }
   ],
   "source": [
    "#finding the model intercept\n",
    "model.intercept_"
   ]
  },
  {
   "cell_type": "code",
   "execution_count": 284,
   "metadata": {},
   "outputs": [
    {
     "data": {
      "text/plain": [
       "array([  11.74761745, -110.66247655,   -0.34323025,    0.17535   ])"
      ]
     },
     "execution_count": 284,
     "metadata": {},
     "output_type": "execute_result"
    }
   ],
   "source": [
    "#to get the co_efficient of the independent variables\n",
    "model.coef_"
   ]
  },
  {
   "cell_type": "code",
   "execution_count": 285,
   "metadata": {},
   "outputs": [],
   "source": [
    "y_predicted = model.predict(X_test)"
   ]
  },
  {
   "cell_type": "markdown",
   "metadata": {},
   "source": [
    "To test the accuracy of the model we calculate the mean squared error and the r*2 score. The higher the percentage the higher the accuracy."
   ]
  },
  {
   "cell_type": "code",
   "execution_count": 286,
   "metadata": {},
   "outputs": [
    {
     "name": "stdout",
     "output_type": "stream",
     "text": [
      "Mean squared error: 56739.61\n"
     ]
    }
   ],
   "source": [
    "print(\"Mean squared error: %.2f\"% mean_squared_error(Y_test, y_predicted))"
   ]
  },
  {
   "cell_type": "code",
   "execution_count": 287,
   "metadata": {},
   "outputs": [
    {
     "name": "stdout",
     "output_type": "stream",
     "text": [
      "R²: 0.07\n"
     ]
    }
   ],
   "source": [
    "print('R²: %.2f'% r2_score(Y_test, y_predicted))"
   ]
  },
  {
   "cell_type": "markdown",
   "metadata": {},
   "source": [
    "## REMARKS:\n",
    "The model has an accuracy of 6% which suggests that the independent variables chosen have almost no linear relationship with the dependent variable price. This is illustrated by the plottings below."
   ]
  },
  {
   "cell_type": "code",
   "execution_count": 288,
   "metadata": {},
   "outputs": [
    {
     "data": {
      "image/png": "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\n",
      "text/plain": [
       "<Figure size 432x288 with 1 Axes>"
      ]
     },
     "metadata": {
      "needs_background": "light"
     },
     "output_type": "display_data"
    }
   ],
   "source": [
    "fig, ax = plt.subplots()\n",
    "ax.scatter(Y_test, y_predicted)\n",
    "ax.plot([Y_test.min(),Y_test.max()], [Y_test.min(),Y_test.max()], 'k--', lw=4)\n",
    "ax.set_xlabel('measured')\n",
    "ax.set_ylabel('predicted')\n",
    "plt.show()"
   ]
  },
  {
   "cell_type": "markdown",
   "metadata": {},
   "source": [
    "## CLUSTERING"
   ]
  },
  {
   "cell_type": "markdown",
   "metadata": {},
   "source": [
    "### Using K_Means Clustering"
   ]
  },
  {
   "cell_type": "code",
   "execution_count": 293,
   "metadata": {},
   "outputs": [],
   "source": [
    "from mpl_toolkits.mplot3d import Axes3D\n",
    "from sklearn.cluster import KMeans"
   ]
  },
  {
   "cell_type": "markdown",
   "metadata": {},
   "source": [
    "#### We create a subset of data based on the following varaiables: price, number_of_reviews, calculated_host_listings_count, availability_365 which acts as our x"
   ]
  },
  {
   "cell_type": "code",
   "execution_count": 345,
   "metadata": {},
   "outputs": [],
   "source": [
    "x=data[['price','number_of_reviews','calculated_host_listings_count','availability_365']].values"
   ]
  },
  {
   "cell_type": "code",
   "execution_count": 346,
   "metadata": {},
   "outputs": [
    {
     "data": {
      "text/plain": [
       "array([[149,   9,   6, 365],\n",
       "       [225,  45,   2, 355],\n",
       "       [150,   0,   1, 365],\n",
       "       ...,\n",
       "       [115,   0,   1,  27],\n",
       "       [ 55,   0,   6,   2],\n",
       "       [ 90,   0,   1,  23]], dtype=int64)"
      ]
     },
     "execution_count": 346,
     "metadata": {},
     "output_type": "execute_result"
    }
   ],
   "source": [
    "x"
   ]
  },
  {
   "cell_type": "code",
   "execution_count": 347,
   "metadata": {},
   "outputs": [],
   "source": [
    "# fit the KMeans model\n",
    "model=KMeans(n_clusters=4)\n"
   ]
  },
  {
   "cell_type": "code",
   "execution_count": 348,
   "metadata": {},
   "outputs": [
    {
     "data": {
      "text/plain": [
       "KMeans(algorithm='auto', copy_x=True, init='k-means++', max_iter=300,\n",
       "       n_clusters=4, n_init=10, n_jobs=None, precompute_distances='auto',\n",
       "       random_state=None, tol=0.0001, verbose=0)"
      ]
     },
     "execution_count": 348,
     "metadata": {},
     "output_type": "execute_result"
    }
   ],
   "source": [
    "model.fit(x)"
   ]
  },
  {
   "cell_type": "code",
   "execution_count": 349,
   "metadata": {},
   "outputs": [],
   "source": [
    "#We then find the means of each of the clusters,the centronoids\n",
    "centronoids=model.cluster_centers_"
   ]
  },
  {
   "cell_type": "code",
   "execution_count": 350,
   "metadata": {},
   "outputs": [],
   "source": [
    "#We load the clusters to a pandas dataframe for the purpose of intepretation\n",
    "cluster=pd.DataFrame(centronoids,columns=['price','number_of_reviews','calculated_host_listings_count','availability_365'])"
   ]
  },
  {
   "cell_type": "code",
   "execution_count": 351,
   "metadata": {
    "scrolled": true
   },
   "outputs": [
    {
     "data": {
      "text/html": [
       "<div>\n",
       "<style scoped>\n",
       "    .dataframe tbody tr th:only-of-type {\n",
       "        vertical-align: middle;\n",
       "    }\n",
       "\n",
       "    .dataframe tbody tr th {\n",
       "        vertical-align: top;\n",
       "    }\n",
       "\n",
       "    .dataframe thead th {\n",
       "        text-align: right;\n",
       "    }\n",
       "</style>\n",
       "<table border=\"1\" class=\"dataframe\">\n",
       "  <thead>\n",
       "    <tr style=\"text-align: right;\">\n",
       "      <th></th>\n",
       "      <th>price</th>\n",
       "      <th>number_of_reviews</th>\n",
       "      <th>calculated_host_listings_count</th>\n",
       "      <th>availability_365</th>\n",
       "    </tr>\n",
       "  </thead>\n",
       "  <tbody>\n",
       "    <tr>\n",
       "      <td>0</td>\n",
       "      <td>125.121385</td>\n",
       "      <td>17.765776</td>\n",
       "      <td>2.128146</td>\n",
       "      <td>26.159822</td>\n",
       "    </tr>\n",
       "    <tr>\n",
       "      <td>1</td>\n",
       "      <td>969.746622</td>\n",
       "      <td>10.582207</td>\n",
       "      <td>9.403153</td>\n",
       "      <td>184.930180</td>\n",
       "    </tr>\n",
       "    <tr>\n",
       "      <td>2</td>\n",
       "      <td>147.189873</td>\n",
       "      <td>35.023914</td>\n",
       "      <td>17.034965</td>\n",
       "      <td>281.361951</td>\n",
       "    </tr>\n",
       "    <tr>\n",
       "      <td>3</td>\n",
       "      <td>5845.860465</td>\n",
       "      <td>1.953488</td>\n",
       "      <td>3.093023</td>\n",
       "      <td>190.186047</td>\n",
       "    </tr>\n",
       "  </tbody>\n",
       "</table>\n",
       "</div>"
      ],
      "text/plain": [
       "         price  number_of_reviews  calculated_host_listings_count  \\\n",
       "0   125.121385          17.765776                        2.128146   \n",
       "1   969.746622          10.582207                        9.403153   \n",
       "2   147.189873          35.023914                       17.034965   \n",
       "3  5845.860465           1.953488                        3.093023   \n",
       "\n",
       "   availability_365  \n",
       "0         26.159822  \n",
       "1        184.930180  \n",
       "2        281.361951  \n",
       "3        190.186047  "
      ]
     },
     "execution_count": 351,
     "metadata": {},
     "output_type": "execute_result"
    }
   ],
   "source": [
    "cluster"
   ]
  },
  {
   "cell_type": "markdown",
   "metadata": {},
   "source": [
    "## INTEPRETATION\n",
    "\n",
    "1. CLUSTER 0:\n",
    "\n",
    "The host oh the hotel has a low price which seems to improving his buisness since he has a relatively high number of reviews and a low availability which means his hotel is booked almost throughout the year. he or she is able to balance the low listings he has.\n",
    "\n",
    "2. CLUSTER 1:\n",
    "\n",
    "The host has a medium price for his hotels. The low reviews and high availability suggests that he needs to find a way to bring in more tourists to his hotel.He has numerous listing counts which means his buisness may be affected by other factors such as location.\n",
    "\n",
    "3. CLUSTER 2:\n",
    "\n",
    "The low price may be attracting the high number of reviews. The high number of availability means that tourists aren't booking his listings hence may consider ways to improve on his marketing.\n",
    "\n",
    "4. CLUSTER 3:\n",
    "\n",
    "The hotel has a very high price which may be the result of the low number of accomodations in his hotels illustrated by the high availability in his listings despite his low listings_count. The reviews are also low."
   ]
  },
  {
   "cell_type": "markdown",
   "metadata": {},
   "source": [
    "### plottings for clustering"
   ]
  },
  {
   "cell_type": "code",
   "execution_count": 363,
   "metadata": {},
   "outputs": [
    {
     "data": {
      "image/png": "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\n",
      "text/plain": [
       "<Figure size 432x288 with 1 Axes>"
      ]
     },
     "metadata": {
      "needs_background": "light"
     },
     "output_type": "display_data"
    }
   ],
   "source": [
    "fig=plt.figure()\n",
    "ax=Axes3D(fig)\n",
    "ax.scatter(x[:,0],x[:,1],x[:,2],x[:,3],)\n",
    "ax.scatter(centronoids[:,0],centronoids[:,1],centronoids[:,2],centronoids[:,3],marker='x',color='red',s=1000)\n",
    "plt.show()"
   ]
  }
 ],
 "metadata": {
  "kernelspec": {
   "display_name": "Python 3",
   "language": "python",
   "name": "python3"
  },
  "language_info": {
   "codemirror_mode": {
    "name": "ipython",
    "version": 3
   },
   "file_extension": ".py",
   "mimetype": "text/x-python",
   "name": "python",
   "nbconvert_exporter": "python",
   "pygments_lexer": "ipython3",
   "version": "3.7.4"
  }
 },
 "nbformat": 4,
 "nbformat_minor": 2
}
